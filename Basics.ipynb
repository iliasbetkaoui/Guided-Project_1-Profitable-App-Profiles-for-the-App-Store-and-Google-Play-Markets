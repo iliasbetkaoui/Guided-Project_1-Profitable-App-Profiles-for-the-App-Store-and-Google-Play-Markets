{
 "cells": [
  {
   "cell_type": "markdown",
   "metadata": {},
   "source": [
    "# Profitble free Android and iOS apps"
   ]
  },
  {
   "cell_type": "markdown",
   "metadata": {},
   "source": [
    "## 1.Introduction :"
   ]
  },
  {
   "cell_type": "markdown",
   "metadata": {},
   "source": [
    "- In our company we only build apps that are free to download and install, and our main source of revenue consists of in-app ads. This means our revenue for any given app is mostly influenced by the number of users who use our app. \n",
    "- Our goal for this project is to analyze data to help our developers understand what kinds of apps are likely to attract more users."
   ]
  },
  {
   "cell_type": "markdown",
   "metadata": {},
   "source": [
    "## 2.Opening and exploring the data :"
   ]
  },
  {
   "cell_type": "code",
   "execution_count": 1,
   "metadata": {},
   "outputs": [],
   "source": [
    "def explore_data(dataset, start, end, rows_and_columns=False):\n",
    "    dataset_slice = dataset[start:end]    \n",
    "    for row in dataset_slice:\n",
    "        print(row)\n",
    "        print('\\n') \n",
    "    if rows_and_columns:\n",
    "        print('Number of rows:', len(dataset))\n",
    "        print('Number of columns:', len(dataset[0]))"
   ]
  },
  {
   "cell_type": "code",
   "execution_count": 2,
   "metadata": {},
   "outputs": [],
   "source": [
    "from csv import reader\n",
    "\n",
    "opened_file = open('googleplaystore.csv', encoding='utf8')\n",
    "read_file = reader(opened_file)\n",
    "google_apps = list(read_file)\n",
    "google_apps_head = google_apps[0]\n",
    "google_apps = google_apps[1:]\n",
    "\n",
    "opened_file = open('AppleStore.csv', encoding='utf8')\n",
    "read_file = reader(opened_file)\n",
    "apple_apps = list(read_file)\n",
    "apple_apps_head = apple_apps[0]\n",
    "apple_apps = apple_apps[1:][1:]"
   ]
  },
  {
   "cell_type": "code",
   "execution_count": 3,
   "metadata": {},
   "outputs": [
    {
     "name": "stdout",
     "output_type": "stream",
     "text": [
      "['Photo Editor & Candy Camera & Grid & ScrapBook', 'ART_AND_DESIGN', '4.1', '159', '19M', '10,000+', 'Free', '0', 'Everyone', 'Art & Design', 'January 7, 2018', '1.0.0', '4.0.3 and up']\n",
      "\n",
      "\n",
      "['Coloring book moana', 'ART_AND_DESIGN', '3.9', '967', '14M', '500,000+', 'Free', '0', 'Everyone', 'Art & Design;Pretend Play', 'January 15, 2018', '2.0.0', '4.0.3 and up']\n",
      "\n",
      "\n",
      "['U Launcher Lite – FREE Live Cool Themes, Hide Apps', 'ART_AND_DESIGN', '4.7', '87510', '8.7M', '5,000,000+', 'Free', '0', 'Everyone', 'Art & Design', 'August 1, 2018', '1.2.4', '4.0.3 and up']\n",
      "\n",
      "\n",
      "['Sketch - Draw & Paint', 'ART_AND_DESIGN', '4.5', '215644', '25M', '50,000,000+', 'Free', '0', 'Teen', 'Art & Design', 'June 8, 2018', 'Varies with device', '4.2 and up']\n",
      "\n",
      "\n",
      "['Pixel Draw - Number Art Coloring Book', 'ART_AND_DESIGN', '4.3', '967', '2.8M', '100,000+', 'Free', '0', 'Everyone', 'Art & Design;Creativity', 'June 20, 2018', '1.1', '4.4 and up']\n",
      "\n",
      "\n",
      "Number of rows: 10841\n",
      "Number of columns: 13\n",
      "['2', '281796108', 'Evernote - stay organized', '158578688', 'USD', '0', '161065', '26', '4', '3.5', '8.2.2', '4+', 'Productivity', '37', '5', '23', '1']\n",
      "\n",
      "\n",
      "['3', '281940292', 'WeatherBug - Local Weather, Radar, Maps, Alerts', '100524032', 'USD', '0', '188583', '2822', '3.5', '4.5', '5.0.0', '4+', 'Weather', '37', '5', '3', '1']\n",
      "\n",
      "\n",
      "['4', '282614216', 'eBay: Best App to Buy, Sell, Save! Online Shopping', '128512000', 'USD', '0', '262241', '649', '4', '4.5', '5.10.0', '12+', 'Shopping', '37', '5', '9', '1']\n",
      "\n",
      "\n",
      "['5', '282935706', 'Bible', '92774400', 'USD', '0', '985920', '5320', '4.5', '5', '7.5.1', '4+', 'Reference', '37', '5', '45', '1']\n",
      "\n",
      "\n",
      "['6', '283619399', 'Shanghai Mahjong', '10485713', 'USD', '0.99', '8253', '5516', '4', '4', '1.8', '4+', 'Games', '47', '5', '1', '1']\n",
      "\n",
      "\n",
      "Number of rows: 7196\n",
      "Number of columns: 17\n"
     ]
    }
   ],
   "source": [
    "explore_data(google_apps,0,5,rows_and_columns=True)\n",
    "explore_data(apple_apps,0,5,rows_and_columns=True)"
   ]
  },
  {
   "cell_type": "code",
   "execution_count": 4,
   "metadata": {},
   "outputs": [
    {
     "name": "stdout",
     "output_type": "stream",
     "text": [
      "['', 'id', 'track_name', 'size_bytes', 'currency', 'price', 'rating_count_tot', 'rating_count_ver', 'user_rating', 'user_rating_ver', 'ver', 'cont_rating', 'prime_genre', 'sup_devices.num', 'ipadSc_urls.num', 'lang.num', 'vpp_lic'] \n",
      " ['App', 'Category', 'Rating', 'Reviews', 'Size', 'Installs', 'Type', 'Price', 'Content Rating', 'Genres', 'Last Updated', 'Current Ver', 'Android Ver']\n"
     ]
    }
   ],
   "source": [
    "print(apple_apps_head,'\\n', google_apps_head)"
   ]
  },
  {
   "cell_type": "markdown",
   "metadata": {},
   "source": [
    "- links to the describtion of the columns names for the apple_apps datatset : [apple](https://www.kaggle.com/ramamet4/app-store-apple-data-set-10k-apps/home)"
   ]
  },
  {
   "cell_type": "markdown",
   "metadata": {},
   "source": [
    "## 3.Data Cleaning (wrong data for entry 10472) :"
   ]
  },
  {
   "cell_type": "code",
   "execution_count": 5,
   "metadata": {},
   "outputs": [
    {
     "name": "stdout",
     "output_type": "stream",
     "text": [
      "['Life Made WI-Fi Touchscreen Photo Frame', '1.9', '19', '3.0M', '1,000+', 'Free', '0', 'Everyone', '', 'February 11, 2018', '1.0.19', '4.0 and up']\n"
     ]
    }
   ],
   "source": [
    "print(google_apps[10472])"
   ]
  },
  {
   "cell_type": "markdown",
   "metadata": {},
   "source": [
    "- The rating is 19. and the maximum rating for a Google Play app is 5, so we delete this row ."
   ]
  },
  {
   "cell_type": "code",
   "execution_count": 6,
   "metadata": {},
   "outputs": [
    {
     "name": "stdout",
     "output_type": "stream",
     "text": [
      "['App', 'Category', 'Rating', 'Reviews', 'Size', 'Installs', 'Type', 'Price', 'Content Rating', 'Genres', 'Last Updated', 'Current Ver', 'Android Ver']\n",
      "['osmino Wi-Fi: free WiFi', 'TOOLS', '4.2', '134203', '4.1M', '10,000,000+', 'Free', '0', 'Everyone', 'Tools', 'August 7, 2018', '6.06.14', '4.4 and up']\n"
     ]
    }
   ],
   "source": [
    "del google_apps[10472]\n",
    "print(google_apps_head)\n",
    "print(google_apps[10472])"
   ]
  },
  {
   "cell_type": "markdown",
   "metadata": {},
   "source": [
    "## 4.Cleaning Data (duplicates entries):"
   ]
  },
  {
   "cell_type": "code",
   "execution_count": 7,
   "metadata": {},
   "outputs": [
    {
     "name": "stdout",
     "output_type": "stream",
     "text": [
      "['Instagram', 'SOCIAL', '4.5', '66577313', 'Varies with device', '1,000,000,000+', 'Free', '0', 'Teen', 'Social', 'July 31, 2018', 'Varies with device', 'Varies with device']\n",
      "['Instagram', 'SOCIAL', '4.5', '66577446', 'Varies with device', '1,000,000,000+', 'Free', '0', 'Teen', 'Social', 'July 31, 2018', 'Varies with device', 'Varies with device']\n",
      "['Instagram', 'SOCIAL', '4.5', '66577313', 'Varies with device', '1,000,000,000+', 'Free', '0', 'Teen', 'Social', 'July 31, 2018', 'Varies with device', 'Varies with device']\n",
      "['Instagram', 'SOCIAL', '4.5', '66509917', 'Varies with device', '1,000,000,000+', 'Free', '0', 'Teen', 'Social', 'July 31, 2018', 'Varies with device', 'Varies with device']\n"
     ]
    }
   ],
   "source": [
    "for row in google_apps :\n",
    "    if row[0] == 'Instagram':\n",
    "        print(row)"
   ]
  },
  {
   "cell_type": "markdown",
   "metadata": {},
   "source": [
    "- The difference between the duplicates is the number of reviews.(certainly because data was collected at different time)."
   ]
  },
  {
   "cell_type": "code",
   "execution_count": 8,
   "metadata": {},
   "outputs": [
    {
     "name": "stdout",
     "output_type": "stream",
     "text": [
      "1181\n"
     ]
    }
   ],
   "source": [
    "duplicate = [] \n",
    "unique = [] \n",
    "for row in google_apps:\n",
    "    if row[0] in unique :\n",
    "        duplicate.append(row[0])\n",
    "    else :\n",
    "        unique.append(row[0])\n",
    "print(len(duplicate))"
   ]
  },
  {
   "cell_type": "markdown",
   "metadata": {},
   "source": [
    "- In the entries for Instagram we can build a criterion for removing the duplicates. The higher the number of reviews, the more recent the data should be. Rather than removing duplicates randomly, we'll only keep the row with the highest number of reviews and remove the other entries.\n",
    "- let's check few duplicate to see if the difference is only on number of reviews. "
   ]
  },
  {
   "cell_type": "code",
   "execution_count": 9,
   "metadata": {},
   "outputs": [
    {
     "name": "stdout",
     "output_type": "stream",
     "text": [
      "['Quick PDF Scanner + OCR FREE', 'BUSINESS', '4.2', '80805', 'Varies with device', '5,000,000+', 'Free', '0', 'Everyone', 'Business', 'February 26, 2018', 'Varies with device', '4.0.3 and up'] \n",
      "\n",
      "['Quick PDF Scanner + OCR FREE', 'BUSINESS', '4.2', '80805', 'Varies with device', '5,000,000+', 'Free', '0', 'Everyone', 'Business', 'February 26, 2018', 'Varies with device', '4.0.3 and up'] \n",
      "\n",
      "['Quick PDF Scanner + OCR FREE', 'BUSINESS', '4.2', '80804', 'Varies with device', '5,000,000+', 'Free', '0', 'Everyone', 'Business', 'February 26, 2018', 'Varies with device', '4.0.3 and up'] \n",
      "\n",
      "['Box', 'BUSINESS', '4.2', '159872', 'Varies with device', '10,000,000+', 'Free', '0', 'Everyone', 'Business', 'July 31, 2018', 'Varies with device', 'Varies with device'] \n",
      "\n",
      "['Box', 'BUSINESS', '4.2', '159872', 'Varies with device', '10,000,000+', 'Free', '0', 'Everyone', 'Business', 'July 31, 2018', 'Varies with device', 'Varies with device'] \n",
      "\n",
      "['Box', 'BUSINESS', '4.2', '159872', 'Varies with device', '10,000,000+', 'Free', '0', 'Everyone', 'Business', 'July 31, 2018', 'Varies with device', 'Varies with device'] \n",
      "\n",
      "['Google My Business', 'BUSINESS', '4.4', '70991', 'Varies with device', '5,000,000+', 'Free', '0', 'Everyone', 'Business', 'July 24, 2018', '2.19.0.204537701', '4.4 and up'] \n",
      "\n",
      "['Google My Business', 'BUSINESS', '4.4', '70991', 'Varies with device', '5,000,000+', 'Free', '0', 'Everyone', 'Business', 'July 24, 2018', '2.19.0.204537701', '4.4 and up'] \n",
      "\n",
      "['Google My Business', 'BUSINESS', '4.4', '70991', 'Varies with device', '5,000,000+', 'Free', '0', 'Everyone', 'Business', 'July 24, 2018', '2.19.0.204537701', '4.4 and up'] \n",
      "\n",
      "['ZOOM Cloud Meetings', 'BUSINESS', '4.4', '31614', '37M', '10,000,000+', 'Free', '0', 'Everyone', 'Business', 'July 20, 2018', '4.1.28165.0716', '4.0 and up'] \n",
      "\n",
      "['ZOOM Cloud Meetings', 'BUSINESS', '4.4', '31614', '37M', '10,000,000+', 'Free', '0', 'Everyone', 'Business', 'July 20, 2018', '4.1.28165.0716', '4.0 and up'] \n",
      "\n",
      "['join.me - Simple Meetings', 'BUSINESS', '4.0', '6989', 'Varies with device', '1,000,000+', 'Free', '0', 'Everyone', 'Business', 'July 16, 2018', '4.3.0.508', '4.4 and up'] \n",
      "\n",
      "['join.me - Simple Meetings', 'BUSINESS', '4.0', '6989', 'Varies with device', '1,000,000+', 'Free', '0', 'Everyone', 'Business', 'July 16, 2018', '4.3.0.508', '4.4 and up'] \n",
      "\n",
      "['join.me - Simple Meetings', 'BUSINESS', '4.0', '6989', 'Varies with device', '1,000,000+', 'Free', '0', 'Everyone', 'Business', 'July 16, 2018', '4.3.0.508', '4.4 and up'] \n",
      "\n"
     ]
    }
   ],
   "source": [
    "for dup in duplicate[:5]:\n",
    "    for row in google_apps:\n",
    "        if row[0] == dup :\n",
    "            print(row,'\\n')"
   ]
  },
  {
   "cell_type": "markdown",
   "metadata": {},
   "source": [
    "- Looks like the difference between duplicated entries is only on the number of reviews."
   ]
  },
  {
   "cell_type": "markdown",
   "metadata": {},
   "source": [
    "## 5.Data Cleaning (Removing the duplicate entries) :"
   ]
  },
  {
   "cell_type": "code",
   "execution_count": 10,
   "metadata": {},
   "outputs": [
    {
     "name": "stdout",
     "output_type": "stream",
     "text": [
      "9659\n"
     ]
    }
   ],
   "source": [
    "reviews_max = {}\n",
    "for row in google_apps:\n",
    "    name = row[0]\n",
    "    n_reviews = float(row[3])\n",
    "    if (name in reviews_max) and (reviews_max[name] < n_reviews):\n",
    "        reviews_max[name] = n_reviews\n",
    "    elif (name not in reviews_max):\n",
    "        reviews_max[name] = n_reviews\n",
    "print(len(reviews_max))"
   ]
  },
  {
   "cell_type": "code",
   "execution_count": 11,
   "metadata": {},
   "outputs": [
    {
     "name": "stdout",
     "output_type": "stream",
     "text": [
      "9659\n",
      "['Instagram', 'SOCIAL', '4.5', '66577446', 'Varies with device', '1,000,000,000+', 'Free', '0', 'Teen', 'Social', 'July 31, 2018', 'Varies with device', 'Varies with device']\n"
     ]
    }
   ],
   "source": [
    "android_clean = []\n",
    "already_added = []\n",
    "for row in google_apps :\n",
    "    name = row[0]\n",
    "    n_reviews = float(row[3])\n",
    "    if (n_reviews == reviews_max[name]) and (name not in already_added):\n",
    "        android_clean.append(row)\n",
    "        already_added.append(name)\n",
    "print(len(android_clean))\n",
    "for row in android_clean :\n",
    "    if row[0] == 'Instagram':\n",
    "        print(row)"
   ]
  },
  {
   "cell_type": "markdown",
   "metadata": {},
   "source": [
    "## 6.7.Data Cleaning (removing app whose name contains a symbol that is not commonly used in English text)"
   ]
  },
  {
   "cell_type": "code",
   "execution_count": 12,
   "metadata": {},
   "outputs": [
    {
     "name": "stdout",
     "output_type": "stream",
     "text": [
      "True\n",
      "False\n",
      "True\n",
      "True\n"
     ]
    }
   ],
   "source": [
    "def english_ch (s):\n",
    "    i = 0\n",
    "    for ch in s:\n",
    "        if ord(ch) > 127 :\n",
    "            i += 1\n",
    "    if i > 3 :\n",
    "        return False \n",
    "    else :\n",
    "        return True\n",
    "print(english_ch('Instagram'))\n",
    "print(english_ch('爱奇艺PPS -《欢乐颂2》电视剧热播'))\n",
    "print(english_ch('Docs To Go™ Free Office Suite'))\n",
    "print(english_ch('Instachat 😜'))\n"
   ]
  },
  {
   "cell_type": "code",
   "execution_count": 13,
   "metadata": {},
   "outputs": [
    {
     "name": "stdout",
     "output_type": "stream",
     "text": [
      "9614\n",
      "6182\n"
     ]
    }
   ],
   "source": [
    "android_apps = []\n",
    "ios_apps = []\n",
    "for app in android_clean :\n",
    "    name = app[0]\n",
    "    if english_ch(name) :\n",
    "        android_apps.append(app)\n",
    "print(len(android_apps))\n",
    "for app in apple_apps:\n",
    "    name = app[2]\n",
    "    if english_ch(name):\n",
    "        ios_apps.append(app)\n",
    "print(len(ios_apps))"
   ]
  },
  {
   "cell_type": "markdown",
   "metadata": {},
   "source": [
    "## 8.Data Cleaning (Isolating the free apps):"
   ]
  },
  {
   "cell_type": "code",
   "execution_count": 14,
   "metadata": {},
   "outputs": [
    {
     "name": "stdout",
     "output_type": "stream",
     "text": [
      "8864\n",
      "3222\n"
     ]
    }
   ],
   "source": [
    "android_final = []\n",
    "ios_final = []\n",
    "for app in android_apps :\n",
    "    if app[7] == '0':\n",
    "        android_final.append(app)\n",
    "print(len(android_final))\n",
    "for app in ios_apps :\n",
    "    if app[5] == '0':\n",
    "        ios_final.append(app)\n",
    "print(len(ios_final))"
   ]
  },
  {
   "cell_type": "markdown",
   "metadata": {},
   "source": [
    "## 9.Most common genres for each market:"
   ]
  },
  {
   "cell_type": "markdown",
   "metadata": {},
   "source": [
    "- As we mentioned in the introduction, our aim is to determine the kinds of apps that are likely to attract more users because our revenue is highly influenced by the number of people using our apps.\n",
    "\n",
    "- To minimize risks and overhead, our validation strategy for an app idea is comprised of three steps:\n",
    "\n",
    "    - Build a minimal Android version of the app, and add it to Google Play.\n",
    "    - If the app has a good response from users, we then develop it further.\n",
    "    - If the app is profitable after six months, we also build an iOS version of the app and add it to the App Store.\n",
    "- Because our end goal is to add the app on both the App Store and Google Play, we need to find app profiles that are successful on both markets. For instance, a profile that might work well for both markets might be a productivity app that makes use of gamification.\n",
    "\n",
    "- Let's begin the analysis by getting a sense of the most common genres for each market. For this, we'll build a frequency table for the prime_genre column of the App Store data set, and the Genres and Category columns of the Google Play data set."
   ]
  },
  {
   "cell_type": "code",
   "execution_count": 15,
   "metadata": {},
   "outputs": [
    {
     "name": "stdout",
     "output_type": "stream",
     "text": [
      "['App', 'Category', 'Rating', 'Reviews', 'Size', 'Installs', 'Type', 'Price', 'Content Rating', 'Genres', 'Last Updated', 'Current Ver', 'Android Ver']\n",
      "['', 'id', 'track_name', 'size_bytes', 'currency', 'price', 'rating_count_tot', 'rating_count_ver', 'user_rating', 'user_rating_ver', 'ver', 'cont_rating', 'prime_genre', 'sup_devices.num', 'ipadSc_urls.num', 'lang.num', 'vpp_lic']\n"
     ]
    }
   ],
   "source": [
    "print(google_apps_head)\n",
    "print(apple_apps_head)"
   ]
  },
  {
   "cell_type": "markdown",
   "metadata": {},
   "source": [
    "- we'll need to build a frequency table for the prime_genre column of the App Store data set, and for the Genres and Category columns of the Google Play data set."
   ]
  },
  {
   "cell_type": "markdown",
   "metadata": {},
   "source": [
    "## 10.Generating Frequency Tables :"
   ]
  },
  {
   "cell_type": "code",
   "execution_count": 16,
   "metadata": {},
   "outputs": [],
   "source": [
    "def freq_table(dataset, index):\n",
    "    freq = {}\n",
    "    for row in dataset:\n",
    "        if row[index] in freq:\n",
    "            freq[row[index]] += 100/len(dataset)\n",
    "        else :\n",
    "            freq[row[index]] = 100/len(dataset)\n",
    "    return freq\n",
    "\n",
    "def display_table(dataset, index):\n",
    "    table = freq_table(dataset, index)\n",
    "    table_display = []\n",
    "    for key in table:\n",
    "        key_val_as_tuple = (table[key], key)\n",
    "        table_display.append(key_val_as_tuple)\n",
    "\n",
    "    table_sorted = sorted(table_display, reverse = True)\n",
    "    for entry in table_sorted:\n",
    "        print(entry[1], ':', entry[0])"
   ]
  },
  {
   "cell_type": "markdown",
   "metadata": {},
   "source": [
    "## 11.Analyzing Frequency tables :"
   ]
  },
  {
   "cell_type": "markdown",
   "metadata": {},
   "source": [
    " - We start examining the prime_genre column of the App Store DATA  set "
   ]
  },
  {
   "cell_type": "code",
   "execution_count": 18,
   "metadata": {},
   "outputs": [
    {
     "name": "stdout",
     "output_type": "stream",
     "text": [
      "Games : 58.1626319056464\n",
      "Entertainment : 7.883302296710134\n",
      "Photo & Video : 4.965859714463075\n",
      "Education : 3.6623215394165176\n",
      "Social Networking : 3.2898820608317867\n",
      "Shopping : 2.6070763500931133\n",
      "Utilities : 2.5139664804469306\n",
      "Sports : 2.1415270018621997\n",
      "Music : 2.048417132216017\n",
      "Health & Fitness : 2.0173805090006227\n",
      "Productivity : 1.7380509000620747\n",
      "Lifestyle : 1.5828677839851035\n",
      "News : 1.3345747982619496\n",
      "Travel : 1.2414649286157668\n",
      "Finance : 1.1173184357541899\n",
      "Weather : 0.8690254500310364\n",
      "Food & Drink : 0.8069522036002481\n",
      "Reference : 0.558659217877095\n",
      "Business : 0.5276225946617009\n",
      "Book : 0.4345127250155184\n",
      "Navigation : 0.186219739292365\n",
      "Medical : 0.186219739292365\n",
      "Catalogs : 0.12414649286157665\n"
     ]
    }
   ],
   "source": [
    "display_table(ios_final, 12)"
   ]
  },
  {
   "cell_type": "markdown",
   "metadata": {},
   "source": [
    "- More than half of the free english apps (58.16%) are games, Entertainment apps represents aproximatively 8%, Photo & Video close to 5%, followed by Education (3.7%) and Social Networking(3.3%) the rest of genres less than 3%. \n",
    "- The general impression is that most of the apps in apple store(more than 78%) are designed for fun (games, entertainment, photo and video, social networking, sport, music , etc), while apps designed for practical purposes (education, shopping utilities, productivity, lifestyle, etc) are more rare. however it doesn't imply that fun apps have the greatest number of users. "
   ]
  },
  {
   "cell_type": "markdown",
   "metadata": {},
   "source": [
    "- Let's continue with examining the Category and Genres column of the google play data set."
   ]
  },
  {
   "cell_type": "code",
   "execution_count": 19,
   "metadata": {},
   "outputs": [
    {
     "name": "stdout",
     "output_type": "stream",
     "text": [
      "FAMILY : 18.907942238266926\n",
      "GAME : 9.724729241877363\n",
      "TOOLS : 8.46119133574016\n",
      "BUSINESS : 4.591606498194979\n",
      "LIFESTYLE : 3.90342960288811\n",
      "PRODUCTIVITY : 3.8921480144404565\n",
      "FINANCE : 3.7003610108303455\n",
      "MEDICAL : 3.5311371841155417\n",
      "SPORTS : 3.3957581227436986\n",
      "PERSONALIZATION : 3.3167870036101235\n",
      "COMMUNICATION : 3.2378158844765483\n",
      "HEALTH_AND_FITNESS : 3.079873646209398\n",
      "PHOTOGRAPHY : 2.944494584837555\n",
      "NEWS_AND_MAGAZINES : 2.7978339350180583\n",
      "SOCIAL : 2.6624548736462152\n",
      "TRAVEL_AND_LOCAL : 2.335288808664261\n",
      "SHOPPING : 2.2450361010830324\n",
      "BOOKS_AND_REFERENCE : 2.14350180505415\n",
      "DATING : 1.861462093862813\n",
      "VIDEO_PLAYERS : 1.7937725631768928\n",
      "MAPS_AND_NAVIGATION : 1.398916967509025\n",
      "FOOD_AND_DRINK : 1.2409747292418778\n",
      "EDUCATION : 1.1620036101083042\n",
      "ENTERTAINMENT : 0.9589350180505433\n",
      "LIBRARIES_AND_DEMO : 0.9363718411552363\n",
      "AUTO_AND_VEHICLES : 0.9250902527075828\n",
      "HOUSE_AND_HOME : 0.8235559566787015\n",
      "WEATHER : 0.8009927797833946\n",
      "EVENTS : 0.7107400722021667\n",
      "PARENTING : 0.6543321299638993\n",
      "ART_AND_DESIGN : 0.6430505415162459\n",
      "COMICS : 0.6204873646209389\n",
      "BEAUTY : 0.5979241877256319\n"
     ]
    }
   ],
   "source": [
    "display_table(android_final, 1)"
   ]
  },
  {
   "cell_type": "markdown",
   "metadata": {},
   "source": [
    "- Almost 19% of the free english apps in google play are family apps, games represents 9.7%, followed by tools (8.4%), buisness(4.6%) and lifestyle(3.9%) comes respectively fourth and fifth.\n",
    "- Each of those apps :(PRODUCTIVITY, FINANCE, MEDICAL, SPORTS, PERSONALIZATION, COMMUNICATION, HEALTH_AND_FITNESS, PHOTOGRAPHY) represents aproximatively 3%\n",
    "- The Apps designed for practical purposes are better represented in GOOGLE Play compared to App Store. "
   ]
  },
  {
   "cell_type": "code",
   "execution_count": 20,
   "metadata": {},
   "outputs": [
    {
     "name": "stdout",
     "output_type": "stream",
     "text": [
      "Tools : 8.449909747292507\n",
      "Entertainment : 6.069494584837599\n",
      "Education : 5.34747292418777\n",
      "Business : 4.591606498194979\n",
      "Productivity : 3.8921480144404565\n",
      "Lifestyle : 3.8921480144404565\n",
      "Finance : 3.7003610108303455\n",
      "Medical : 3.5311371841155417\n",
      "Sports : 3.46344765342962\n",
      "Personalization : 3.3167870036101235\n",
      "Communication : 3.2378158844765483\n",
      "Action : 3.1024368231047053\n",
      "Health & Fitness : 3.079873646209398\n",
      "Photography : 2.944494584837555\n",
      "News & Magazines : 2.7978339350180583\n",
      "Social : 2.6624548736462152\n",
      "Travel & Local : 2.3240072202166075\n",
      "Shopping : 2.2450361010830324\n",
      "Books & Reference : 2.14350180505415\n",
      "Simulation : 2.041967509025268\n",
      "Dating : 1.861462093862813\n",
      "Arcade : 1.8501805054151597\n",
      "Video Players & Editors : 1.771209386281586\n",
      "Casual : 1.7599277978339327\n",
      "Maps & Navigation : 1.398916967509025\n",
      "Food & Drink : 1.2409747292418778\n",
      "Puzzle : 1.1281588447653441\n",
      "Racing : 0.9927797833935037\n",
      "Role Playing : 0.9363718411552363\n",
      "Libraries & Demo : 0.9363718411552363\n",
      "Auto & Vehicles : 0.9250902527075828\n",
      "Strategy : 0.9138086642599293\n",
      "House & Home : 0.8235559566787015\n",
      "Weather : 0.8009927797833946\n",
      "Events : 0.7107400722021667\n",
      "Adventure : 0.6768953068592063\n",
      "Comics : 0.6092057761732854\n",
      "Beauty : 0.5979241877256319\n",
      "Art & Design : 0.5979241877256319\n",
      "Parenting : 0.4963898916967507\n",
      "Card : 0.451263537906137\n",
      "Casino : 0.42870036101083014\n",
      "Trivia : 0.4174187725631767\n",
      "Educational;Education : 0.3948555956678699\n",
      "Board : 0.38357400722021645\n",
      "Educational : 0.372292418772563\n",
      "Education;Education : 0.33844765342960276\n",
      "Word : 0.2594765342960288\n",
      "Casual;Pretend Play : 0.23691335740072195\n",
      "Music : 0.20306859205776168\n",
      "Racing;Action & Adventure : 0.1692238267148014\n",
      "Puzzle;Brain Games : 0.1692238267148014\n",
      "Entertainment;Music & Video : 0.1692238267148014\n",
      "Casual;Brain Games : 0.13537906137184114\n",
      "Casual;Action & Adventure : 0.13537906137184114\n",
      "Arcade;Action & Adventure : 0.12409747292418771\n",
      "Action;Action & Adventure : 0.10153429602888087\n",
      "Educational;Pretend Play : 0.09025270758122744\n",
      "Simulation;Action & Adventure : 0.07897111913357402\n",
      "Parenting;Education : 0.07897111913357402\n",
      "Entertainment;Brain Games : 0.07897111913357402\n",
      "Board;Brain Games : 0.07897111913357402\n",
      "Parenting;Music & Video : 0.06768953068592058\n",
      "Educational;Brain Games : 0.06768953068592058\n",
      "Casual;Creativity : 0.06768953068592058\n",
      "Art & Design;Creativity : 0.06768953068592058\n",
      "Education;Pretend Play : 0.05640794223826715\n",
      "Role Playing;Pretend Play : 0.04512635379061372\n",
      "Education;Creativity : 0.04512635379061372\n",
      "Role Playing;Action & Adventure : 0.03384476534296029\n",
      "Puzzle;Action & Adventure : 0.03384476534296029\n",
      "Entertainment;Creativity : 0.03384476534296029\n",
      "Entertainment;Action & Adventure : 0.03384476534296029\n",
      "Educational;Creativity : 0.03384476534296029\n",
      "Educational;Action & Adventure : 0.03384476534296029\n",
      "Education;Music & Video : 0.03384476534296029\n",
      "Education;Brain Games : 0.03384476534296029\n",
      "Education;Action & Adventure : 0.03384476534296029\n",
      "Adventure;Action & Adventure : 0.03384476534296029\n",
      "Video Players & Editors;Music & Video : 0.02256317689530686\n",
      "Sports;Action & Adventure : 0.02256317689530686\n",
      "Simulation;Pretend Play : 0.02256317689530686\n",
      "Puzzle;Creativity : 0.02256317689530686\n",
      "Music;Music & Video : 0.02256317689530686\n",
      "Entertainment;Pretend Play : 0.02256317689530686\n",
      "Casual;Education : 0.02256317689530686\n",
      "Board;Action & Adventure : 0.02256317689530686\n",
      "Video Players & Editors;Creativity : 0.01128158844765343\n",
      "Trivia;Education : 0.01128158844765343\n",
      "Travel & Local;Action & Adventure : 0.01128158844765343\n",
      "Tools;Education : 0.01128158844765343\n",
      "Strategy;Education : 0.01128158844765343\n",
      "Strategy;Creativity : 0.01128158844765343\n",
      "Strategy;Action & Adventure : 0.01128158844765343\n",
      "Simulation;Education : 0.01128158844765343\n",
      "Role Playing;Brain Games : 0.01128158844765343\n",
      "Racing;Pretend Play : 0.01128158844765343\n",
      "Puzzle;Education : 0.01128158844765343\n",
      "Parenting;Brain Games : 0.01128158844765343\n",
      "Music & Audio;Music & Video : 0.01128158844765343\n",
      "Lifestyle;Pretend Play : 0.01128158844765343\n",
      "Lifestyle;Education : 0.01128158844765343\n",
      "Health & Fitness;Education : 0.01128158844765343\n",
      "Health & Fitness;Action & Adventure : 0.01128158844765343\n",
      "Entertainment;Education : 0.01128158844765343\n",
      "Communication;Creativity : 0.01128158844765343\n",
      "Comics;Creativity : 0.01128158844765343\n",
      "Casual;Music & Video : 0.01128158844765343\n",
      "Card;Action & Adventure : 0.01128158844765343\n",
      "Books & Reference;Education : 0.01128158844765343\n",
      "Art & Design;Pretend Play : 0.01128158844765343\n",
      "Art & Design;Action & Adventure : 0.01128158844765343\n",
      "Arcade;Pretend Play : 0.01128158844765343\n",
      "Adventure;Education : 0.01128158844765343\n"
     ]
    }
   ],
   "source": [
    "display_table(android_final, 9)"
   ]
  },
  {
   "cell_type": "markdown",
   "metadata": {},
   "source": [
    "- The difference between the Category and Genres column is not clear, but we can notice that the Genre column has more categories. \n",
    "- For now, we found that the App store is dominated by apps designed for fun, while Google Play have a balanced quantity of both practical apps and for-fun apps.\n",
    "- let's continue exploring and examining the datasets to get an idea about the genres that have most users."
   ]
  },
  {
   "cell_type": "markdown",
   "metadata": {},
   "source": [
    "## 12. Calculating the average number of user ratings per app genre on the App Store:"
   ]
  },
  {
   "cell_type": "code",
   "execution_count": 28,
   "metadata": {},
   "outputs": [
    {
     "data": {
      "text/plain": [
       "{'Productivity': 21028.410714285714,\n",
       " 'Weather': 52279.892857142855,\n",
       " 'Shopping': 26919.690476190477,\n",
       " 'Reference': 74942.11111111111,\n",
       " 'Finance': 31467.944444444445,\n",
       " 'Music': 57326.530303030304,\n",
       " 'Utilities': 18684.456790123455,\n",
       " 'Travel': 28243.8,\n",
       " 'Social Networking': 71548.34905660378,\n",
       " 'Sports': 23008.898550724636,\n",
       " 'Health & Fitness': 23298.015384615384,\n",
       " 'Games': 22788.6696905016,\n",
       " 'Food & Drink': 33333.92307692308,\n",
       " 'News': 21248.023255813954,\n",
       " 'Book': 39758.5,\n",
       " 'Photo & Video': 28441.54375,\n",
       " 'Entertainment': 14029.830708661417,\n",
       " 'Business': 7491.117647058823,\n",
       " 'Lifestyle': 16485.764705882353,\n",
       " 'Education': 7003.983050847458,\n",
       " 'Navigation': 86090.33333333333,\n",
       " 'Medical': 612.0,\n",
       " 'Catalogs': 4004.0}"
      ]
     },
     "execution_count": 28,
     "metadata": {},
     "output_type": "execute_result"
    }
   ],
   "source": [
    "unique_genres = freq_table(ios_final, 12)\n",
    "avg_ratings = {}\n",
    "for genre in unique_genres :\n",
    "    total = 0\n",
    "    len_genre = 0 \n",
    "    for app in ios_final :\n",
    "        if app[12] == genre :\n",
    "            total += float(app[6])\n",
    "            len_genre += 1\n",
    "    avg_ratings[genre] = total / len_genre\n",
    "avg_ratings"
   ]
  },
  {
   "cell_type": "markdown",
   "metadata": {},
   "source": [
    "- The first five genres with the gratest average number of user ratings : \n",
    "    - Navigation        : 86090.33\n",
    "    - Reference         : 74942.11\n",
    "    - Social Networking : 71548.35\n",
    "    - Music             : 57326.53\n",
    "    - Weather           : 52279.89\n",
    "- let's go deep in each of the genres above. "
   ]
  },
  {
   "cell_type": "code",
   "execution_count": 29,
   "metadata": {},
   "outputs": [
    {
     "name": "stdout",
     "output_type": "stream",
     "text": [
      "Navigation\n",
      "Waze - GPS Navigation, Maps & Real-time Traffic , user_ratings :  345046\n",
      "Geocaching® , user_ratings :  12811\n",
      "ImmobilienScout24: Real Estate Search in Germany , user_ratings :  187\n",
      "Railway Route Search , user_ratings :  5\n",
      "CoPilot GPS – Car Navigation & Offline Maps , user_ratings :  3582\n",
      "Google Maps - Navigation & Transit , user_ratings :  154911\n"
     ]
    }
   ],
   "source": [
    "print('Navigation')\n",
    "for app in ios_final:\n",
    "    if app[12] == 'Navigation':\n",
    "        print(app[2],', user_ratings : ',app[6])"
   ]
  },
  {
   "cell_type": "markdown",
   "metadata": {},
   "source": [
    "- Average of user ratings for Navigation apps is heavily influenced by Waze and Google Maps.(both represent aproximatively one half milion of user ratings)"
   ]
  },
  {
   "cell_type": "code",
   "execution_count": 30,
   "metadata": {},
   "outputs": [
    {
     "name": "stdout",
     "output_type": "stream",
     "text": [
      "Reference\n",
      "Bible , user_ratings :  985920\n",
      "Dictionary.com Dictionary & Thesaurus , user_ratings :  200047\n",
      "Dictionary.com Dictionary & Thesaurus for iPad , user_ratings :  54175\n",
      "Muslim Pro: Ramadan 2017 Prayer Times, Azan, Quran , user_ratings :  18418\n",
      "Merriam-Webster Dictionary , user_ratings :  16849\n",
      "Google Translate , user_ratings :  26786\n",
      "Night Sky , user_ratings :  12122\n",
      "WWDC , user_ratings :  762\n",
      "Jishokun-Japanese English Dictionary & Translator , user_ratings :  0\n",
      "教えて!goo , user_ratings :  0\n",
      "VPN Express , user_ratings :  14\n",
      "New Furniture Mods - Pocket Wiki & Game Tools for Minecraft PC Edition , user_ratings :  17588\n",
      "LUCKY BLOCK MOD ™ for Minecraft PC Edition - The Best Pocket Wiki & Mods Installer Tools , user_ratings :  4693\n",
      "Guides for Pokémon GO - Pokemon GO News and Cheats , user_ratings :  826\n",
      "Horror Maps for Minecraft PE - Download The Scariest Maps for Minecraft Pocket Edition (MCPE) Free , user_ratings :  718\n",
      "City Maps for Minecraft PE - The Best Maps for Minecraft Pocket Edition (MCPE) , user_ratings :  8535\n",
      "GUNS MODS for Minecraft PC Edition - Mods Tools , user_ratings :  1497\n",
      "Real Bike Traffic Rider Virtual Reality Glasses , user_ratings :  8\n"
     ]
    }
   ],
   "source": [
    "print('Reference')\n",
    "for app in ios_final:\n",
    "    if app[12] == 'Reference':\n",
    "        print(app[2],', user_ratings : ',app[6])"
   ]
  },
  {
   "cell_type": "markdown",
   "metadata": {},
   "source": [
    "- Same for Reference genres, user ratings is influenced by Bible and Dictionary.com Dictionary & Thesaurus.\n",
    "- it seems that we can turn a famous book to an app with intresting features (Audio version, daily quotes ...).and on top of that, we have more opportunities in practical apps compared to for-fun apps."
   ]
  },
  {
   "cell_type": "code",
   "execution_count": 31,
   "metadata": {},
   "outputs": [
    {
     "name": "stdout",
     "output_type": "stream",
     "text": [
      "Social Networking\n",
      "Facebook , user_ratings :  2974676\n",
      "LinkedIn , user_ratings :  71856\n",
      "Skype for iPhone , user_ratings :  373519\n",
      "Tumblr , user_ratings :  334293\n",
      "Match™ - #1 Dating App. , user_ratings :  60659\n",
      "WhatsApp Messenger , user_ratings :  287589\n",
      "TextNow - Unlimited Text + Calls , user_ratings :  164963\n",
      "Grindr - Gay and same sex guys chat, meet and date , user_ratings :  23201\n",
      "imo video calls and chat , user_ratings :  18841\n",
      "Ameba , user_ratings :  269\n",
      "Weibo , user_ratings :  7265\n",
      "Badoo - Meet New People, Chat, Socialize. , user_ratings :  34428\n",
      "Kik , user_ratings :  260965\n",
      "Qzone , user_ratings :  1649\n",
      "Fake-A-Location Free ™ , user_ratings :  354\n",
      "Tango - Free Video Call, Voice and Chat , user_ratings :  75412\n",
      "MeetMe - Chat and Meet New People , user_ratings :  97072\n",
      "SimSimi , user_ratings :  23530\n",
      "Viber Messenger – Text & Call , user_ratings :  164249\n",
      "Find My Family, Friends & iPhone - Life360 Locator , user_ratings :  43877\n",
      "Weibo HD , user_ratings :  16772\n",
      "POF - Best Dating App for Conversations , user_ratings :  52642\n",
      "GroupMe , user_ratings :  28260\n",
      "Lobi , user_ratings :  36\n",
      "WeChat , user_ratings :  34584\n",
      "ooVoo – Free Video Call, Text and Voice , user_ratings :  177501\n",
      "Pinterest , user_ratings :  1061624\n",
      "知乎 , user_ratings :  397\n",
      "Qzone HD , user_ratings :  458\n",
      "Skype for iPad , user_ratings :  60163\n",
      "LINE , user_ratings :  11437\n",
      "QQ , user_ratings :  9109\n",
      "LOVOO - Dating Chat , user_ratings :  1985\n",
      "QQ HD , user_ratings :  5058\n",
      "Messenger , user_ratings :  351466\n",
      "eHarmony™ Dating App - Meet Singles , user_ratings :  11124\n",
      "YouNow: Live Stream Video Chat , user_ratings :  12079\n",
      "Cougar Dating & Life Style App for Mature Women , user_ratings :  213\n",
      "Battlefield™ Companion , user_ratings :  689\n",
      "Whisper - Share, Express, Meet , user_ratings :  39819\n",
      "We Heart It - Fashion, wallpapers, quotes, tattoos , user_ratings :  90414\n",
      "Followers - Social Analytics For Instagram , user_ratings :  112778\n",
      "InsTrack for Instagram - Analytics Plus More , user_ratings :  85535\n",
      "Followers + for Instagram - Follower Analytics , user_ratings :  28633\n",
      "Timehop , user_ratings :  49510\n",
      "Repost for Instagram , user_ratings :  15185\n",
      "LINE PLAY - Your Avatar World , user_ratings :  34677\n",
      "Nextdoor , user_ratings :  14402\n",
      "Hangouts , user_ratings :  36404\n",
      "FollowMeter for Instagram - Followers Tracking , user_ratings :  11976\n",
      "Telegram Messenger , user_ratings :  7573\n",
      "Chatous - Chat with new people , user_ratings :  1609\n",
      "QQ International , user_ratings :  274\n",
      "FireChat , user_ratings :  1037\n",
      "Jodel , user_ratings :  1193\n",
      "Wishbone - Compare Anything , user_ratings :  20649\n",
      "Zenly - Locate your friends in realtime , user_ratings :  427\n",
      "Tantan , user_ratings :  235\n",
      "Flinch - Video Chat Staring Contest , user_ratings :  2134\n",
      "botman - Real time video chat , user_ratings :  7\n",
      "豆瓣 , user_ratings :  407\n",
      "Marco Polo Video Walkie Talkie , user_ratings :  27662\n",
      "After School - Funny Anonymous School News , user_ratings :  18482\n",
      "Highrise - Your Avatar Community , user_ratings :  2011\n",
      "Quick Reposter - Repost, Regram and Reshare Photos , user_ratings :  17694\n",
      "Kiwi - Q&A , user_ratings :  1538\n",
      "Periscope - Live Video Streaming Around the World , user_ratings :  6062\n",
      "Inke—Broadcast an amazing life , user_ratings :  147\n",
      "Discord - Chat for Gamers , user_ratings :  9152\n",
      "Candid - Speak Your Mind Freely , user_ratings :  398\n",
      "Down To Lunch , user_ratings :  2535\n",
      "SOMA Messenger , user_ratings :  3232\n",
      "Rawr Messenger - Dab your chat , user_ratings :  180\n",
      "Popcorn Buzz - Free Group Calls , user_ratings :  281\n",
      "Chain: Collaborate On MyVideo Story/Group Video , user_ratings :  35\n",
      "BestieBox , user_ratings :  0\n",
      "Selfeo , user_ratings :  366\n",
      "Followers Analysis Tool For Instagram App Free , user_ratings :  4253\n",
      "Hey! VINA - Where Women Meet New Friends , user_ratings :  719\n",
      "PlayStation®Messages , user_ratings :  1918\n",
      "WhenToPost: Best Time to Post Photos for Instagram , user_ratings :  158\n",
      "MATCH ON LINE chat , user_ratings :  0\n",
      "Fiesta by Tango - Chat & Meet New People , user_ratings :  885\n",
      "Houseparty - Group Video Chat , user_ratings :  3991\n",
      "All Devices for WhatsApp - Messenger for iPad , user_ratings :  682\n",
      "Peach — share vividly , user_ratings :  727\n",
      "bit-tube - Live Stream Video Chat , user_ratings :  0\n",
      "Miitomo , user_ratings :  23965\n",
      "SoundCloud Pulse: for creators , user_ratings :  240\n",
      "IAmNaughty – Dating App to Meet New People Online , user_ratings :  463\n",
      "League of Legends Friends , user_ratings :  420\n",
      "GhostCodes - a discovery app for Snapchat , user_ratings :  1313\n",
      "live.ly - live video streaming , user_ratings :  4145\n",
      "Live.me – Live Video Chat & Make Friends Nearby , user_ratings :  14724\n",
      "BOO! - Video chat camera with filters & stickers , user_ratings :  1805\n",
      "Google Allo — smart messaging , user_ratings :  862\n",
      "Google Duo - simple video calling , user_ratings :  1033\n",
      "Chat for Whatsapp - iPad Version , user_ratings :  5060\n",
      "Chat for Pokemon Go - GoChat , user_ratings :  500\n",
      "niconico ch , user_ratings :  0\n",
      "Followers Analytics for Instagram - InstaReport , user_ratings :  13914\n",
      "Monkey , user_ratings :  3060\n",
      "LINE BLOG , user_ratings :  0\n",
      "Mustknow - anonymous video Q&A , user_ratings :  53\n",
      "CTFxCmoji , user_ratings :  39\n",
      "Fam — Group video calling for iMessage , user_ratings :  279\n"
     ]
    }
   ],
   "source": [
    "print('Social Networking')\n",
    "for app in ios_final:\n",
    "    if app[12] == 'Social Networking':\n",
    "        print(app[2],', user_ratings : ',app[6])"
   ]
  },
  {
   "cell_type": "markdown",
   "metadata": {},
   "source": [
    "-  The average number is heavily influenced by a few giants like Facebook, Pinterest, Skype, etc. We can have a small shot if we sort out an app with innovating features and ideas(For exemple : an ID control of subscribers to reduce fake profiles) but it still hard to challenge those giants !"
   ]
  },
  {
   "cell_type": "code",
   "execution_count": 32,
   "metadata": {},
   "outputs": [
    {
     "name": "stdout",
     "output_type": "stream",
     "text": [
      "Music\n",
      "Pandora - Music & Radio , user_ratings :  1126879\n",
      "Shazam - Discover music, artists, videos & lyrics , user_ratings :  402925\n",
      "iHeartRadio – Free Music & Radio Stations , user_ratings :  293228\n",
      "Deezer - Listen to your Favorite Music & Playlists , user_ratings :  4677\n",
      "Sonos Controller , user_ratings :  48905\n",
      "NRJ Radio , user_ratings :  38\n",
      "radio.de - Der Radioplayer , user_ratings :  64\n",
      "Spotify Music , user_ratings :  878563\n",
      "SoundCloud - Music & Audio , user_ratings :  135744\n",
      "Sing Karaoke Songs Unlimited with StarMaker , user_ratings :  26227\n",
      "SoundHound Song Search & Music Player , user_ratings :  82602\n",
      "Ringtones for iPhone & Ringtone Maker , user_ratings :  25403\n",
      "Coach Guitar - Lessons & Easy Tabs For Beginners , user_ratings :  2416\n",
      "TuneIn Radio - MLB NBA Audiobooks Podcasts Music , user_ratings :  110420\n",
      "Magic Piano by Smule , user_ratings :  131695\n",
      "QQ音乐HD , user_ratings :  224\n",
      "The Singing Machine Mobile Karaoke App , user_ratings :  130\n",
      "Bandsintown Concerts , user_ratings :  30845\n",
      "PetitLyrics , user_ratings :  0\n",
      "edjing Mix:DJ turntable to remix and scratch music , user_ratings :  13580\n",
      "Smule Sing! , user_ratings :  119316\n",
      "Amazon Music , user_ratings :  106235\n",
      "AutoRap by Smule , user_ratings :  18202\n",
      "My Mixtapez Music , user_ratings :  26286\n",
      "Certified Mixtapes - Hip Hop Albums & Mixtapes , user_ratings :  9975\n",
      "Karaoke - Sing Karaoke, Unlimited Songs! , user_ratings :  28606\n",
      "Napster - Top Music & Radio , user_ratings :  14268\n",
      "Musi - Unlimited Music For YouTube , user_ratings :  25193\n",
      "UE BOOM , user_ratings :  612\n",
      "Spinrilla - Mixtapes For Free , user_ratings :  15053\n",
      "Google Play Music , user_ratings :  10118\n",
      "Piano - Play Keyboard Music Games with Magic Tiles , user_ratings :  1636\n",
      "Bose SoundTouch , user_ratings :  3687\n",
      "DatPiff , user_ratings :  2815\n",
      "Sounds app - Music And Friends , user_ratings :  5126\n",
      "Smart Music: Streaming Videos and Radio , user_ratings :  17\n",
      "Free Piano app by Yokee , user_ratings :  13016\n",
      "Simple Radio - Live AM & FM Radio Stations , user_ratings :  4787\n",
      "Trebel Music - Unlimited Music Downloader , user_ratings :  2570\n",
      "TIDAL , user_ratings :  7398\n",
      "Acapella from PicPlayPost , user_ratings :  2487\n",
      "Medly - Music Maker , user_ratings :  933\n",
      "Amazon Alexa , user_ratings :  3018\n",
      "Music Freedom - Unlimited Free MP3 Music Streaming , user_ratings :  1246\n",
      "PlayGround • Music At Your Fingertips , user_ratings :  150\n",
      "Musical Video Maker - Create Music clips lip sync , user_ratings :  320\n",
      "Free Music Play - Mp3 Streamer & Player , user_ratings :  2496\n",
      "LiveMixtapes , user_ratings :  555\n",
      "AmpMe - A Portable Social Party Music Speaker , user_ratings :  1047\n",
      "NOISE , user_ratings :  355\n",
      "YouTube Music , user_ratings :  7109\n",
      "Ringtones for iPhone with Ringtone Maker , user_ratings :  4013\n",
      "Music Memos , user_ratings :  909\n",
      "Musicloud - MP3 and FLAC Music Player for Cloud Platforms. , user_ratings :  2211\n",
      "Bose Connect , user_ratings :  915\n",
      "Cloud Music Player - Downloader & Playlist Manager , user_ratings :  319\n",
      "Remixlive - Remix loops with pads , user_ratings :  288\n",
      "Free Music -  Player & Streamer  for Dropbox, OneDrive & Google Drive , user_ratings :  46\n",
      "Boom: Best Equalizer & Magical Surround Sound , user_ratings :  1375\n",
      "MP3 Music Player & Streamer for Clouds , user_ratings :  329\n",
      "Nicki Minaj: The Empire , user_ratings :  5196\n",
      "SongFlip - Free Music Streamer , user_ratings :  5004\n",
      "Blocs Wave - Make & Record Music , user_ratings :  158\n",
      "Music and Chill , user_ratings :  135\n",
      "Free Music - MP3 Streamer & Playlist Manager Pro , user_ratings :  13443\n",
      "BOSS Tuner , user_ratings :  13\n"
     ]
    }
   ],
   "source": [
    "print('Music')\n",
    "for app in ios_final:\n",
    "    if app[12] == 'Music':\n",
    "        print(app[2],', user_ratings : ',app[6])"
   ]
  },
  {
   "cell_type": "markdown",
   "metadata": {},
   "source": [
    "- Same applies to music apps, where a few big players like Pandora, Spotify, and Shazam heavily influence the average number."
   ]
  },
  {
   "cell_type": "markdown",
   "metadata": {},
   "source": [
    "- Weather apps : people generally don't spend too much time in-app, and the chances of making profit from in-app adds are low. Also, getting reliable live weather data may require us to connect our apps to non-free APIs."
   ]
  },
  {
   "cell_type": "markdown",
   "metadata": {},
   "source": [
    "## 13. Google Play genres's popularity : "
   ]
  },
  {
   "cell_type": "code",
   "execution_count": 33,
   "metadata": {},
   "outputs": [
    {
     "data": {
      "text/plain": [
       "{'ART_AND_DESIGN': 1986335.0877192982,\n",
       " 'AUTO_AND_VEHICLES': 647317.8170731707,\n",
       " 'BEAUTY': 513151.88679245283,\n",
       " 'BOOKS_AND_REFERENCE': 8767811.894736841,\n",
       " 'BUSINESS': 1712290.1474201474,\n",
       " 'COMICS': 817657.2727272727,\n",
       " 'COMMUNICATION': 38456119.167247385,\n",
       " 'DATING': 854028.8303030303,\n",
       " 'EDUCATION': 1833495.145631068,\n",
       " 'ENTERTAINMENT': 11640705.88235294,\n",
       " 'EVENTS': 253542.22222222222,\n",
       " 'FINANCE': 1387692.475609756,\n",
       " 'FOOD_AND_DRINK': 1924897.7363636363,\n",
       " 'HEALTH_AND_FITNESS': 4188821.9853479853,\n",
       " 'HOUSE_AND_HOME': 1331540.5616438356,\n",
       " 'LIBRARIES_AND_DEMO': 638503.734939759,\n",
       " 'LIFESTYLE': 1437816.2687861272,\n",
       " 'GAME': 15588015.603248259,\n",
       " 'FAMILY': 3695641.8198090694,\n",
       " 'MEDICAL': 120550.61980830671,\n",
       " 'SOCIAL': 23253652.127118643,\n",
       " 'SHOPPING': 7036877.311557789,\n",
       " 'PHOTOGRAPHY': 17840110.40229885,\n",
       " 'SPORTS': 3638640.1428571427,\n",
       " 'TRAVEL_AND_LOCAL': 13984077.710144928,\n",
       " 'TOOLS': 10801391.298666667,\n",
       " 'PERSONALIZATION': 5201482.6122448975,\n",
       " 'PRODUCTIVITY': 16787331.344927534,\n",
       " 'PARENTING': 542603.6206896552,\n",
       " 'WEATHER': 5074486.197183099,\n",
       " 'VIDEO_PLAYERS': 24727872.452830188,\n",
       " 'NEWS_AND_MAGAZINES': 9549178.467741935,\n",
       " 'MAPS_AND_NAVIGATION': 4056941.7741935486}"
      ]
     },
     "execution_count": 33,
     "metadata": {},
     "output_type": "execute_result"
    }
   ],
   "source": [
    "unique_category = freq_table(android_final, 1)\n",
    "avg_installs = {}\n",
    "for category in unique_category :\n",
    "    total = 0 \n",
    "    len_category = 0\n",
    "    for app in android_final :\n",
    "        if app[1] == category :\n",
    "            installs = app[5]\n",
    "            installs = installs.replace('+', '')\n",
    "            installs = installs.replace(',', '')\n",
    "            total += float(installs)\n",
    "            len_category += 1\n",
    "    avg_installs[category] = total / len_category\n",
    "avg_installs"
   ]
  },
  {
   "cell_type": "markdown",
   "metadata": {},
   "source": [
    "- The first nine genres with the gratest average number of installs : \n",
    "    - COMMUNICATION      : 38 456 119.16\n",
    "    - VIDEO_PLAYERS      : 24 727 872.45\n",
    "    - SOCIAL             : 23 253 652.12\n",
    "    - PHOTOGRAPHY        : 17 840 110.40\n",
    "    - PRODUCTIVITY       : 16 787 331.34\n",
    "    - GAME               : 15 588 015.60\n",
    "    - TRAVEL_AND_LOCAL   : 13 984 077.71\n",
    "    - ENTERTAINMENT      : 11 640 705.88\n",
    "    - TOOLS              : 10 801 391.29\n",
    "    - NEWS_AND_MAGAZINES :  9 549 178.46\n",
    "    - BOOKS_AND_REFERENCE:  8 767 811.89\n",
    "- let's go deep in each of the genres above. "
   ]
  },
  {
   "cell_type": "code",
   "execution_count": 34,
   "metadata": {},
   "outputs": [
    {
     "name": "stdout",
     "output_type": "stream",
     "text": [
      "COMMUNICATION\n",
      "WhatsApp Messenger , installs :  1,000,000,000+\n",
      "Messenger for SMS , installs :  10,000,000+\n",
      "My Tele2 , installs :  5,000,000+\n",
      "imo beta free calls and text , installs :  100,000,000+\n",
      "Contacts , installs :  50,000,000+\n",
      "Call Free – Free Call , installs :  5,000,000+\n",
      "Web Browser & Explorer , installs :  5,000,000+\n",
      "Browser 4G , installs :  10,000,000+\n",
      "MegaFon Dashboard , installs :  10,000,000+\n",
      "ZenUI Dialer & Contacts , installs :  10,000,000+\n",
      "Cricket Visual Voicemail , installs :  10,000,000+\n",
      "TracFone My Account , installs :  1,000,000+\n",
      "Xperia Link™ , installs :  10,000,000+\n",
      "TouchPal Keyboard - Fun Emoji & Android Keyboard , installs :  10,000,000+\n",
      "Skype Lite - Free Video Call & Chat , installs :  5,000,000+\n",
      "My magenta , installs :  1,000,000+\n",
      "Android Messages , installs :  100,000,000+\n",
      "Google Duo - High Quality Video Calls , installs :  500,000,000+\n",
      "Seznam.cz , installs :  1,000,000+\n",
      "Antillean Gold Telegram (original version) , installs :  100,000+\n",
      "AT&T Visual Voicemail , installs :  10,000,000+\n",
      "GMX Mail , installs :  10,000,000+\n",
      "Omlet Chat , installs :  10,000,000+\n",
      "My Vodacom SA , installs :  5,000,000+\n",
      "Microsoft Edge , installs :  5,000,000+\n",
      "Messenger – Text and Video Chat for Free , installs :  1,000,000,000+\n",
      "imo free video calls and chat , installs :  500,000,000+\n",
      "Calls & Text by Mo+ , installs :  5,000,000+\n",
      "free video calls and chat , installs :  50,000,000+\n",
      "Skype - free IM & video calls , installs :  1,000,000,000+\n",
      "Who , installs :  100,000,000+\n",
      "GO SMS Pro - Messenger, Free Themes, Emoji , installs :  100,000,000+\n",
      "Messaging+ SMS, MMS Free , installs :  1,000,000+\n",
      "chomp SMS , installs :  10,000,000+\n",
      "Glide - Video Chat Messenger , installs :  10,000,000+\n",
      "Text SMS , installs :  10,000,000+\n",
      "Talkray - Free Calls & Texts , installs :  10,000,000+\n",
      "LINE: Free Calls & Messages , installs :  500,000,000+\n",
      "GroupMe , installs :  10,000,000+\n",
      "mysms SMS Text Messaging Sync , installs :  1,000,000+\n",
      "2ndLine - Second Phone Number , installs :  1,000,000+\n",
      "Google Chrome: Fast & Secure , installs :  1,000,000,000+\n",
      "Firefox Browser fast & private , installs :  100,000,000+\n",
      "Ninesky Browser , installs :  1,000,000+\n",
      "Dolphin Browser - Fast, Private & Adblock🐬 , installs :  50,000,000+\n",
      "UC Browser - Fast Download Private & Secure , installs :  500,000,000+\n",
      "Ghostery Privacy Browser , installs :  1,000,000+\n",
      "InBrowser - Incognito Browsing , installs :  1,000,000+\n",
      "Lightning Web Browser , installs :  500,000+\n",
      "Web Browser , installs :  500,000+\n",
      "Contacts+ , installs :  10,000,000+\n",
      "ExDialer - Dialer & Contacts , installs :  10,000,000+\n",
      "PHONE for Google Voice & GTalk , installs :  1,000,000+\n",
      "Safest Call Blocker , installs :  1,000,000+\n",
      "Full Screen Caller ID , installs :  5,000,000+\n",
      "Hiya - Caller ID & Block , installs :  10,000,000+\n",
      "Mr. Number-Block calls & spam , installs :  10,000,000+\n",
      "Should I Answer? , installs :  1,000,000+\n",
      "RocketDial Dialer & Contacts , installs :  1,000,000+\n",
      "CIA - Caller ID & Call Blocker , installs :  5,000,000+\n",
      "Calls Blacklist - Call Blocker , installs :  10,000,000+\n",
      "Call Control - Call Blocker , installs :  5,000,000+\n",
      "True Contact - Real Caller ID , installs :  1,000,000+\n",
      "Video Caller Id , installs :  1,000,000+\n",
      "Sync.ME – Caller ID & Block , installs :  5,000,000+\n",
      "Burner - Free Phone Number , installs :  1,000,000+\n",
      "Caller ID + , installs :  1,000,000+\n",
      "Gmail , installs :  1,000,000,000+\n",
      "K-9 Mail , installs :  5,000,000+\n",
      "myMail – Email for Hotmail, Gmail and Outlook Mail , installs :  10,000,000+\n",
      "Email TypeApp - Mail App , installs :  1,000,000+\n",
      "All Email Providers , installs :  1,000,000+\n",
      "Newton Mail - Email App for Gmail, Outlook, IMAP , installs :  1,000,000+\n",
      "GO Notifier , installs :  10,000,000+\n",
      "Mail.Ru - Email App , installs :  50,000,000+\n",
      "Mail1Click - Secure Mail , installs :  10,000+\n",
      "Daum Mail - Next Mail , installs :  5,000,000+\n",
      "mail.com mail , installs :  1,000,000+\n",
      "SolMail - All-in-One email app , installs :  500,000+\n",
      "Hangouts , installs :  1,000,000,000+\n",
      "Vonage Mobile® Call Video Text , installs :  1,000,000+\n",
      "JusTalk - Free Video Calls and Fun Video Chat , installs :  5,000,000+\n",
      "Azar , installs :  50,000,000+\n",
      "LokLok: Draw on a Lock Screen , installs :  500,000+\n",
      "Discord - Chat for Gamers , installs :  10,000,000+\n",
      "Messenger Lite: Free Calls & Messages , installs :  100,000,000+\n",
      "AntennaPict β , installs :  1,000,000+\n",
      "Talkatone: Free Texts, Calls & Phone Number , installs :  10,000,000+\n",
      "Kik , installs :  100,000,000+\n",
      "K-@ Mail - Email App , installs :  100,000+\n",
      "KakaoTalk: Free Calls & Text , installs :  100,000,000+\n",
      "K-9 Material (unofficial) , installs :  5,000+\n",
      "M star Dialer , installs :  100,000+\n",
      "Free WiFi Connect , installs :  10,000,000+\n",
      "m:go BiH , installs :  10,000+\n",
      "N-Com Wizard , installs :  50,000+\n",
      "Opera Mini - fast web browser , installs :  100,000,000+\n",
      "Opera Browser: Fast and Secure , installs :  100,000,000+\n",
      "Opera Mini browser beta , installs :  10,000,000+\n",
      "Psiphon Pro - The Internet Freedom VPN , installs :  10,000,000+\n",
      "ICQ — Video Calls & Chat Messenger , installs :  10,000,000+\n",
      "Telegram , installs :  100,000,000+\n",
      "AT&T Messages for Tablet , installs :  1,000,000+\n",
      "T-Mobile DIGITS , installs :  100,000+\n",
      "Truecaller: Caller ID, SMS spam blocking & Dialer , installs :  100,000,000+\n",
      "Portable Wi-Fi hotspot , installs :  10,000,000+\n",
      "AT&T Call Protect , installs :  5,000,000+\n",
      "U - Webinars, Meetings & Messenger , installs :  500,000+\n",
      "UC Browser Mini -Tiny Fast Private & Secure , installs :  100,000,000+\n",
      "/u/app , installs :  10,000+\n",
      "[verify-U] VideoIdent , installs :  10,000+\n",
      "Viber Messenger , installs :  500,000,000+\n",
      "WeChat , installs :  100,000,000+\n",
      "WhatsApp Business , installs :  10,000,000+\n",
      "WhatsCall Free Global Phone Call App & Cheap Calls , installs :  10,000,000+\n",
      "X Browser , installs :  50,000+\n",
      "Yahoo Mail – Stay Organized , installs :  100,000,000+\n",
      "Free Adblocker Browser - Adblock & Popup Blocker , installs :  10,000,000+\n",
      "Adblock Browser for Android , installs :  10,000,000+\n",
      "CM Browser - Ad Blocker , Fast Download , Privacy , installs :  50,000,000+\n",
      "Adblock Plus for Samsung Internet - Browse safe. , installs :  1,000,000+\n",
      "Ad Blocker Turbo - Adblocker Browser , installs :  10,000+\n",
      "Brave Browser: Fast AdBlocker , installs :  5,000,000+\n",
      "AG Contacts, Lite edition , installs :  5,000+\n",
      "Oklahoma Ag Co-op Council , installs :  10+\n",
      "Bee'ah Employee App , installs :  100+\n",
      "tournaments and more.aj.2 , installs :  100+\n",
      "Aj.Petra , installs :  100+\n",
      "AK Phone , installs :  5,000+\n",
      "PlacarTv Futebol Ao Vivo , installs :  100,000+\n",
      "WiFi Access Point (hotspot) , installs :  100,000+\n",
      "Access Point Names , installs :  10,000+\n",
      "Puffin Web Browser , installs :  10,000,000+\n",
      "ClanHQ , installs :  10,000+\n",
      "Ear Agent: Super Hearing , installs :  5,000,000+\n",
      "Google Voice , installs :  10,000,000+\n",
      "Google Allo , installs :  10,000,000+\n",
      "AU Call Blocker - Block Unwanted Calls Texts 2018 , installs :  1,000+\n",
      "Baby Monitor AV , installs :  100,000+\n",
      "AV Phone , installs :  1,000+\n",
      "AW - free video calls and chat , installs :  1,000,000+\n",
      "Katalogen.ax , installs :  100+\n",
      "AZ Browser. Private & Download , installs :  100,000+\n",
      "BA SALES , installs :  1+\n",
      "BD Data Plan (3G & 4G) , installs :  500,000+\n",
      "BD Internet Packages (Updated) , installs :  50,000+\n",
      "BD Dialer , installs :  10,000+\n",
      "BD Live Call , installs :  5,000+\n",
      "Best Browser BD social networking , installs :  10+\n",
      "Traffic signs BD , installs :  500+\n",
      "BF Browser by Betfilter - Stop Gambling Today! , installs :  10,000+\n",
      "My BF App , installs :  50,000+\n",
      "BH Mail , installs :  1,000+\n",
      "Zalo – Video Call , installs :  50,000,000+\n",
      "BJ - Confidential , installs :  10+\n",
      "BK Chat , installs :  1,000+\n",
      "Of the wall Arapaho bk , installs :  5+\n",
      "AC-BL , installs :  50+\n",
      "BBM - Free Calls & Messages , installs :  100,000,000+\n",
      "DMR BrandMeister Tool , installs :  10,000+\n",
      "BBMoji - Your personalized BBM Stickers , installs :  1,000,000+\n",
      "BN MALLORCA Radio , installs :  1,000+\n",
      "BQ Partners , installs :  1,000+\n",
      "BS-Mobile , installs :  50+\n",
      "ATC Unico BS , installs :  500+\n",
      "BT One Voice mobile access , installs :  5,000+\n",
      "BT Messenger , installs :  50,000+\n",
      "BT One Phone Mobile App , installs :  10,000+\n",
      "SW-100.tch by Callstel , installs :  1,000,000+\n",
      "BT MeetMe with Dolby Voice , installs :  100,000+\n",
      "Bluetooth Auto Connect , installs :  5,000,000+\n",
      "AudioBT: BT audio GPS/SMS/Text , installs :  50,000+\n",
      "BV , installs :  100+\n",
      "Feel Performer , installs :  10,000+\n",
      "Tiny Call Confirm , installs :  1,000,000+\n",
      "CB Radio Chat - for friends! , installs :  1,000,000+\n",
      "CB On Mobile , installs :  100,000+\n",
      "Virtual Walkie Talkie , installs :  1,000,000+\n",
      "Channel 19 , installs :  100,000+\n",
      "Cb browser , installs :  50+\n",
      "CF Chat: Connecting Friends , installs :  100+\n",
      "retteMi.ch , installs :  5,000+\n",
      "Chrome Dev , installs :  5,000,000+\n",
      "CJ Browser - Fast & Private , installs :  100+\n",
      "CJ DVD Rentals , installs :  100+\n",
      "CK Call NEW , installs :  10+\n",
      "CM Transfer - Share any files with friends nearby , installs :  5,000,000+\n",
      "mail.co.uk Mail , installs :  5,000+\n",
      "ClanPlay: Community and Tools for Gamers , installs :  1,000,000+\n",
      "CQ-Mobile , installs :  1,000+\n",
      "CQ-Alert , installs :  500+\n",
      "QRZ Assistant , installs :  100,000+\n",
      "Pocket Prefix Plus , installs :  10,000+\n",
      "Ham Radio Prefixes , installs :  10,000+\n",
      "CS Customizer , installs :  1,000+\n",
      "CS Browser | #1 & BEST BROWSER , installs :  1,000+\n",
      "CS Browser Beta , installs :  5,000+\n",
      "My Vodafone (GR) , installs :  1,000,000+\n",
      "IZ2UUF Morse Koch CW , installs :  50,000+\n",
      "C W Browser , installs :  100+\n",
      "CW Bluetooth SPP , installs :  100+\n",
      "CW BLE Peripheral Simulator , installs :  500+\n",
      "Morse Code Reader , installs :  100,000+\n",
      "Learn Morse Code - G0HYN Learn Morse , installs :  5,000+\n",
      "Ring , installs :  10,000+\n",
      "Hyundai CX Conference , installs :  50+\n",
      "Cy Messenger , installs :  100+\n",
      "Amadeus GR & CY , installs :  100+\n",
      "Hlášenírozhlasu.cz , installs :  10+\n",
      "SMS Sender - sluzba.cz , installs :  1,000+\n",
      "WEB.DE Mail , installs :  10,000,000+\n",
      "Your Freedom VPN Client , installs :  5,000,000+\n",
      "CallApp: Caller ID, Blocker & Phone Call Recorder , installs :  10,000,000+\n",
      "Rádio Sol Nascente DF , installs :  500+\n",
      "DG Card , installs :  100+\n",
      "Whoscall - Caller ID & Block , installs :  10,000,000+\n",
      "DK Browser , installs :  10+\n",
      "cluster.dk , installs :  1,000+\n",
      "DK TEL Dialer , installs :  50+\n",
      "DM for WhatsApp , installs :  5,000+\n",
      "DM Talk New , installs :  5,000+\n",
      "DM - The Offical Messaging App , installs :  10+\n",
      "DM Tracker , installs :  1,000+\n",
      "Call Blocker & Blacklist , installs :  1,000+\n",
      "ReadyOp DT , installs :  1,000+\n",
      "DU Browser—Browse fast & fun , installs :  10,000,000+\n",
      "Caller ID & Call Block - DU Caller , installs :  5,000,000+\n",
      "BlueDV AMBE , installs :  1,000+\n",
      "DW Contacts & Phone & Dialer , installs :  1,000,000+\n",
      "Deaf World DW , installs :  10,000+\n",
      "Ham DX Cluster & Spots Finder , installs :  5,000+\n",
      "Mircules DX Cluster Lite , installs :  5,000+\n",
      "3G DZ Configuration , installs :  50,000+\n",
      "chat dz , installs :  100+\n",
      "love sms good morning , installs :  5,000+\n",
      "Goodbox - Mega App , installs :  100,000+\n",
      "Call Blocker - Blacklist, SMS Blocker , installs :  1,000,000+\n",
      "[EF]ShoutBox , installs :  100+\n",
      "Eg Call , installs :  10,000+\n",
      "ei , installs :  10+\n",
      "EJ messenger , installs :  10+\n",
      "Ek IRA , installs :  10+\n",
      "Orfox: Tor Browser for Android , installs :  10,000,000+\n",
      "EO Mumbai , installs :  10+\n",
      "EP RSS Reader , installs :  100+\n",
      "Voxer Walkie Talkie Messenger , installs :  10,000,000+\n",
      "ES-1 , installs :  500+\n",
      "Hangouts Dialer - Call Phones , installs :  10,000,000+\n",
      "EU Council , installs :  1,000+\n",
      "Council Voting Calculator , installs :  5,000+\n",
      "Have your say on Europe , installs :  500+\n",
      "Programi podrške EU , installs :  100+\n",
      "Inbox.eu , installs :  10,000+\n",
      "Web Browser for Android , installs :  1,000,000+\n",
      "Everbridge , installs :  100,000+\n",
      "Best Auto Call Recorder Free , installs :  500+\n",
      "EZ Wifi Notification , installs :  10,000+\n",
      "Test Server SMS FA , installs :  5+\n",
      "Lite for Facebook Messenger , installs :  1,000,000+\n",
      "FC Browser - Focus Privacy Browser , installs :  1,000+\n",
      "EHiN-FH conferenceapp , installs :  100+\n",
      "Carpooling FH Hagenberg , installs :  100+\n",
      "Wi-Fi Auto-connect , installs :  1,000,000+\n",
      "Talkie - Wi-Fi Calling, Chats, File Sharing , installs :  500,000+\n",
      "WeFi - Free Fast WiFi Connect & Find Wi-Fi Map , installs :  1,000,000+\n",
      "Sat-Fi , installs :  5,000+\n",
      "Portable Wi-Fi hotspot Free , installs :  100,000+\n",
      "TownWiFi | Wi-Fi Everywhere , installs :  500,000+\n",
      "Jazz Wi-Fi , installs :  10,000+\n",
      "Sat-Fi Voice , installs :  1,000+\n",
      "Free Wi-fi HotspoT , installs :  50,000+\n",
      "FN Web Radio , installs :  10+\n",
      "FNH Payment Info , installs :  10+\n",
      "MARKET FO , installs :  100+\n",
      "FO OP St-Nazaire , installs :  100+\n",
      "FO SODEXO , installs :  100+\n",
      "FO RCBT , installs :  100+\n",
      "FO Interim , installs :  100+\n",
      "FO PSA Sept-Fons , installs :  100+\n",
      "FO AIRBUS TLSE , installs :  1,000+\n",
      "FO STELIA Méaulte , installs :  100+\n",
      "FO AIRBUS Nantes , installs :  100+\n",
      "Firefox Focus: The privacy browser , installs :  1,000,000+\n",
      "FP Connect , installs :  100+\n",
      "FreedomPop Messaging Phone/SIM , installs :  500,000+\n",
      "FP Live , installs :  10+\n",
      "HipChat - beta version , installs :  50,000+\n"
     ]
    }
   ],
   "source": [
    "print('COMMUNICATION')\n",
    "for app in android_final:\n",
    "    if app[1] == 'COMMUNICATION':\n",
    "        print(app[0],', installs : ', app[5])"
   ]
  },
  {
   "cell_type": "code",
   "execution_count": 35,
   "metadata": {},
   "outputs": [
    {
     "name": "stdout",
     "output_type": "stream",
     "text": [
      "WhatsApp Messenger , installs :  1,000,000,000+\n",
      "imo beta free calls and text , installs :  100,000,000+\n",
      "Android Messages , installs :  100,000,000+\n",
      "Google Duo - High Quality Video Calls , installs :  500,000,000+\n",
      "Messenger – Text and Video Chat for Free , installs :  1,000,000,000+\n",
      "imo free video calls and chat , installs :  500,000,000+\n",
      "Skype - free IM & video calls , installs :  1,000,000,000+\n",
      "Who , installs :  100,000,000+\n",
      "GO SMS Pro - Messenger, Free Themes, Emoji , installs :  100,000,000+\n",
      "LINE: Free Calls & Messages , installs :  500,000,000+\n",
      "Google Chrome: Fast & Secure , installs :  1,000,000,000+\n",
      "Firefox Browser fast & private , installs :  100,000,000+\n",
      "UC Browser - Fast Download Private & Secure , installs :  500,000,000+\n",
      "Gmail , installs :  1,000,000,000+\n",
      "Hangouts , installs :  1,000,000,000+\n",
      "Messenger Lite: Free Calls & Messages , installs :  100,000,000+\n",
      "Kik , installs :  100,000,000+\n",
      "KakaoTalk: Free Calls & Text , installs :  100,000,000+\n",
      "Opera Mini - fast web browser , installs :  100,000,000+\n",
      "Opera Browser: Fast and Secure , installs :  100,000,000+\n",
      "Telegram , installs :  100,000,000+\n",
      "Truecaller: Caller ID, SMS spam blocking & Dialer , installs :  100,000,000+\n",
      "UC Browser Mini -Tiny Fast Private & Secure , installs :  100,000,000+\n",
      "Viber Messenger , installs :  500,000,000+\n",
      "WeChat , installs :  100,000,000+\n",
      "Yahoo Mail – Stay Organized , installs :  100,000,000+\n",
      "BBM - Free Calls & Messages , installs :  100,000,000+\n"
     ]
    }
   ],
   "source": [
    "for app in android_final:\n",
    "    if app[1] == 'COMMUNICATION' and (app[5] == '100,000,000+'\n",
    "                                     or app[5] == '500,000,000+'\n",
    "                                     or app[5] == '1,000,000,000+'):\n",
    "        print(app[0],', installs : ', app[5])"
   ]
  },
  {
   "cell_type": "markdown",
   "metadata": {},
   "source": [
    "- On average, communication apps have the most installs: 38,456,119. This number is heavily skewed up by a few apps that have over one billion installs (WhatsApp, Facebook Messenger, Skype, Google Chrome, Gmail, and Hangouts), and a few others with over 100 and 500 million installs."
   ]
  },
  {
   "cell_type": "code",
   "execution_count": 36,
   "metadata": {},
   "outputs": [
    {
     "name": "stdout",
     "output_type": "stream",
     "text": [
      "Facebook , installs :  1,000,000,000+\n",
      "Facebook Lite , installs :  500,000,000+\n",
      "Tumblr , installs :  100,000,000+\n",
      "Pinterest , installs :  100,000,000+\n",
      "Google+ , installs :  1,000,000,000+\n",
      "Badoo - Free Chat & Dating App , installs :  100,000,000+\n",
      "Tango - Live Video Broadcast , installs :  100,000,000+\n",
      "Instagram , installs :  1,000,000,000+\n",
      "Snapchat , installs :  500,000,000+\n",
      "LinkedIn , installs :  100,000,000+\n",
      "Tik Tok - including musical.ly , installs :  100,000,000+\n",
      "BIGO LIVE - Live Stream , installs :  100,000,000+\n",
      "VK , installs :  100,000,000+\n"
     ]
    }
   ],
   "source": [
    "for app in android_final:\n",
    "    if app[1] == 'SOCIAL' and (app[5] == '100,000,000+'\n",
    "                                     or app[5] == '500,000,000+'\n",
    "                                     or app[5] == '1,000,000,000+'):\n",
    "        print(app[0],', installs : ', app[5])"
   ]
  },
  {
   "cell_type": "code",
   "execution_count": 37,
   "metadata": {},
   "outputs": [
    {
     "name": "stdout",
     "output_type": "stream",
     "text": [
      "YouTube , installs :  1,000,000,000+\n",
      "Motorola Gallery , installs :  100,000,000+\n",
      "VLC for Android , installs :  100,000,000+\n",
      "Google Play Movies & TV , installs :  1,000,000,000+\n",
      "MX Player , installs :  500,000,000+\n",
      "Dubsmash , installs :  100,000,000+\n",
      "VivaVideo - Video Editor & Photo Movie , installs :  100,000,000+\n",
      "VideoShow-Video Editor, Video Maker, Beauty Camera , installs :  100,000,000+\n",
      "Motorola FM Radio , installs :  100,000,000+\n"
     ]
    }
   ],
   "source": [
    "for app in android_final:\n",
    "    if app[1] == 'VIDEO_PLAYERS' and (app[5] == '100,000,000+'\n",
    "                                     or app[5] == '500,000,000+'\n",
    "                                     or app[5] == '1,000,000,000+'):\n",
    "        print(app[0],', installs : ', app[5])"
   ]
  },
  {
   "cell_type": "code",
   "execution_count": 38,
   "metadata": {},
   "outputs": [
    {
     "name": "stdout",
     "output_type": "stream",
     "text": [
      "B612 - Beauty & Filter Camera , installs :  100,000,000+\n",
      "YouCam Makeup - Magic Selfie Makeovers , installs :  100,000,000+\n",
      "Sweet Selfie - selfie camera, beauty cam, photo edit , installs :  100,000,000+\n",
      "Google Photos , installs :  1,000,000,000+\n",
      "Retrica , installs :  100,000,000+\n",
      "Photo Editor Pro , installs :  100,000,000+\n",
      "BeautyPlus - Easy Photo Editor & Selfie Camera , installs :  100,000,000+\n",
      "PicsArt Photo Studio: Collage Maker & Pic Editor , installs :  100,000,000+\n",
      "Photo Collage Editor , installs :  100,000,000+\n",
      "Z Camera - Photo Editor, Beauty Selfie, Collage , installs :  100,000,000+\n",
      "PhotoGrid: Video & Pic Collage Maker, Photo Editor , installs :  100,000,000+\n",
      "Candy Camera - selfie, beauty camera, photo editor , installs :  100,000,000+\n",
      "YouCam Perfect - Selfie Photo Editor , installs :  100,000,000+\n",
      "Camera360: Selfie Photo Editor with Funny Sticker , installs :  100,000,000+\n",
      "S Photo Editor - Collage Maker , Photo Collage , installs :  100,000,000+\n",
      "AR effect , installs :  100,000,000+\n",
      "Cymera Camera- Photo Editor, Filter,Collage,Layout , installs :  100,000,000+\n",
      "LINE Camera - Photo editor , installs :  100,000,000+\n",
      "Photo Editor Collage Maker Pro , installs :  100,000,000+\n"
     ]
    }
   ],
   "source": [
    "for app in android_final:\n",
    "    if app[1] == 'PHOTOGRAPHY' and (app[5] == '100,000,000+'\n",
    "                                     or app[5] == '500,000,000+'\n",
    "                                     or app[5] == '1,000,000,000+'):\n",
    "        print(app[0],', installs : ', app[5])"
   ]
  },
  {
   "cell_type": "code",
   "execution_count": 39,
   "metadata": {},
   "outputs": [
    {
     "name": "stdout",
     "output_type": "stream",
     "text": [
      "Microsoft Word , installs :  500,000,000+\n",
      "Microsoft Outlook , installs :  100,000,000+\n",
      "Microsoft OneDrive , installs :  100,000,000+\n",
      "Microsoft OneNote , installs :  100,000,000+\n",
      "Google Keep , installs :  100,000,000+\n",
      "ES File Explorer File Manager , installs :  100,000,000+\n",
      "Dropbox , installs :  500,000,000+\n",
      "Google Docs , installs :  100,000,000+\n",
      "Microsoft PowerPoint , installs :  100,000,000+\n",
      "Samsung Notes , installs :  100,000,000+\n",
      "SwiftKey Keyboard , installs :  100,000,000+\n",
      "Google Drive , installs :  1,000,000,000+\n",
      "Adobe Acrobat Reader , installs :  100,000,000+\n",
      "Google Sheets , installs :  100,000,000+\n",
      "Microsoft Excel , installs :  100,000,000+\n",
      "WPS Office - Word, Docs, PDF, Note, Slide & Sheet , installs :  100,000,000+\n",
      "Google Slides , installs :  100,000,000+\n",
      "ColorNote Notepad Notes , installs :  100,000,000+\n",
      "Evernote – Organizer, Planner for Notes & Memos , installs :  100,000,000+\n",
      "Google Calendar , installs :  500,000,000+\n",
      "Cloud Print , installs :  500,000,000+\n",
      "CamScanner - Phone PDF Creator , installs :  100,000,000+\n"
     ]
    }
   ],
   "source": [
    "for app in android_final:\n",
    "    if app[1] == 'PRODUCTIVITY' and (app[5] == '100,000,000+'\n",
    "                                     or app[5] == '500,000,000+'\n",
    "                                     or app[5] == '1,000,000,000+'):\n",
    "        print(app[0],', installs : ', app[5])"
   ]
  },
  {
   "cell_type": "markdown",
   "metadata": {},
   "source": [
    "- We see the same pattern for the video players category, which is the runner-up with 24,727,872 installs. The market is dominated by apps like Youtube, Google Play Movies & TV, or MX Player. The pattern is repeated for social apps (where we have giants like Facebook, Instagram, Google+, etc.), photography apps (Google Photos and other popular photo editors), or productivity apps (Microsoft Word, Dropbox, Google Calendar, Evernote, etc.).\n",
    "- let's continue by examining the game genre :"
   ]
  },
  {
   "cell_type": "code",
   "execution_count": 40,
   "metadata": {},
   "outputs": [
    {
     "name": "stdout",
     "output_type": "stream",
     "text": [
      "Sonic Dash , installs :  100,000,000+\n",
      "PAC-MAN , installs :  100,000,000+\n",
      "Roll the Ball® - slide puzzle , installs :  100,000,000+\n",
      "Piano Tiles 2™ , installs :  100,000,000+\n",
      "Pokémon GO , installs :  100,000,000+\n",
      "Extreme Car Driving Simulator , installs :  100,000,000+\n",
      "Trivia Crack , installs :  100,000,000+\n",
      "Angry Birds 2 , installs :  100,000,000+\n",
      "Candy Crush Saga , installs :  500,000,000+\n",
      "8 Ball Pool , installs :  100,000,000+\n",
      "Subway Surfers , installs :  1,000,000,000+\n",
      "Candy Crush Soda Saga , installs :  100,000,000+\n",
      "Clash Royale , installs :  100,000,000+\n",
      "Clash of Clans , installs :  100,000,000+\n",
      "Plants vs. Zombies FREE , installs :  100,000,000+\n",
      "Pou , installs :  500,000,000+\n",
      "Flow Free , installs :  100,000,000+\n",
      "My Talking Angela , installs :  100,000,000+\n",
      "slither.io , installs :  100,000,000+\n",
      "Cooking Fever , installs :  100,000,000+\n",
      "Yes day , installs :  100,000,000+\n",
      "Score! Hero , installs :  100,000,000+\n",
      "Dream League Soccer 2018 , installs :  100,000,000+\n",
      "My Talking Tom , installs :  500,000,000+\n",
      "Sniper 3D Gun Shooter: Free Shooting Games - FPS , installs :  100,000,000+\n",
      "Zombie Tsunami , installs :  100,000,000+\n",
      "Helix Jump , installs :  100,000,000+\n",
      "Crossy Road , installs :  100,000,000+\n",
      "Temple Run 2 , installs :  500,000,000+\n",
      "Talking Tom Gold Run , installs :  100,000,000+\n",
      "Agar.io , installs :  100,000,000+\n",
      "Bus Rush: Subway Edition , installs :  100,000,000+\n",
      "Traffic Racer , installs :  100,000,000+\n",
      "Hill Climb Racing , installs :  100,000,000+\n",
      "Angry Birds Rio , installs :  100,000,000+\n",
      "Cut the Rope FULL FREE , installs :  100,000,000+\n",
      "Hungry Shark Evolution , installs :  100,000,000+\n",
      "Angry Birds Classic , installs :  100,000,000+\n",
      "Hill Climb Racing 2 , installs :  100,000,000+\n",
      "Jetpack Joyride , installs :  100,000,000+\n",
      "Super Mario Run , installs :  100,000,000+\n",
      "Glow Hockey , installs :  100,000,000+\n",
      "Asphalt 8: Airborne , installs :  100,000,000+\n",
      "Lep's World 2 🍀🍀 , installs :  100,000,000+\n",
      "Fruit Ninja® , installs :  100,000,000+\n",
      "Vector , installs :  100,000,000+\n",
      "Dr. Driving , installs :  100,000,000+\n",
      "Bike Race Free - Top Motorcycle Racing Games , installs :  100,000,000+\n",
      "Smash Hit , installs :  100,000,000+\n",
      "Temple Run , installs :  100,000,000+\n",
      "Geometry Dash Lite , installs :  100,000,000+\n",
      "Ant Smasher by Best Cool & Fun Games , installs :  100,000,000+\n",
      "Angry Birds Star Wars , installs :  100,000,000+\n",
      "Mobile Legends: Bang Bang , installs :  100,000,000+\n",
      "Banana Kong , installs :  100,000,000+\n",
      "Skater Boy , installs :  100,000,000+\n",
      "Shadow Fight 2 , installs :  100,000,000+\n",
      "Modern Combat 5: eSports FPS , installs :  100,000,000+\n",
      "Garena Free Fire , installs :  100,000,000+\n"
     ]
    }
   ],
   "source": [
    "for app in android_final:\n",
    "    if app[1] == 'GAME' and (app[5] == '100,000,000+'\n",
    "                                     or app[5] == '500,000,000+'\n",
    "                                     or app[5] == '1,000,000,000+'):\n",
    "        print(app[0],', installs : ', app[5])"
   ]
  },
  {
   "cell_type": "markdown",
   "metadata": {},
   "source": [
    "- The game genre seems satured, and unless an innovating idea it's better to focus on others genres. \n",
    "- Since we are looking fo app profile with potential in both App Store and Google Play.\n",
    "- let's look at the BOOKS_AND_REFERENCE genres :"
   ]
  },
  {
   "cell_type": "code",
   "execution_count": 41,
   "metadata": {},
   "outputs": [
    {
     "name": "stdout",
     "output_type": "stream",
     "text": [
      "Google Play Books , installs :  1,000,000,000+\n",
      "Bible , installs :  100,000,000+\n",
      "Amazon Kindle , installs :  100,000,000+\n",
      "Wattpad 📖 Free Books , installs :  100,000,000+\n",
      "Audiobooks from Audible , installs :  100,000,000+\n"
     ]
    }
   ],
   "source": [
    "for app in android_final:\n",
    "    if app[1] == 'BOOKS_AND_REFERENCE' and (app[5] == '100,000,000+'\n",
    "                                     or app[5] == '500,000,000+'\n",
    "                                     or app[5] == '1,000,000,000+'):\n",
    "        print(app[0],', installs : ', app[5])"
   ]
  },
  {
   "cell_type": "markdown",
   "metadata": {},
   "source": [
    "- There are only a few very popular apps, so this market still shows potential. Let's try to get some app ideas based on the kind of apps that are somewhere in the middle in terms of popularity"
   ]
  },
  {
   "cell_type": "code",
   "execution_count": 42,
   "metadata": {},
   "outputs": [
    {
     "name": "stdout",
     "output_type": "stream",
     "text": [
      "Wikipedia , installs :  10,000,000+\n",
      "Cool Reader , installs :  10,000,000+\n",
      "Book store , installs :  1,000,000+\n",
      "FBReader: Favorite Book Reader , installs :  10,000,000+\n",
      "Free Books - Spirit Fanfiction and Stories , installs :  1,000,000+\n",
      "AlReader -any text book reader , installs :  5,000,000+\n",
      "FamilySearch Tree , installs :  1,000,000+\n",
      "Cloud of Books , installs :  1,000,000+\n",
      "ReadEra – free ebook reader , installs :  1,000,000+\n",
      "Ebook Reader , installs :  5,000,000+\n",
      "Read books online , installs :  5,000,000+\n",
      "eBoox: book reader fb2 epub zip , installs :  1,000,000+\n",
      "All Maths Formulas , installs :  1,000,000+\n",
      "Ancestry , installs :  5,000,000+\n",
      "HTC Help , installs :  10,000,000+\n",
      "Moon+ Reader , installs :  10,000,000+\n",
      "English-Myanmar Dictionary , installs :  1,000,000+\n",
      "Golden Dictionary (EN-AR) , installs :  1,000,000+\n",
      "All Language Translator Free , installs :  1,000,000+\n",
      "Aldiko Book Reader , installs :  10,000,000+\n",
      "Dictionary - WordWeb , installs :  5,000,000+\n",
      "50000 Free eBooks & Free AudioBooks , installs :  5,000,000+\n",
      "Al-Quran (Free) , installs :  10,000,000+\n",
      "Al Quran Indonesia , installs :  10,000,000+\n",
      "Al'Quran Bahasa Indonesia , installs :  10,000,000+\n",
      "Al Quran Al karim , installs :  1,000,000+\n",
      "Al Quran : EAlim - Translations & MP3 Offline , installs :  5,000,000+\n",
      "Koran Read &MP3 30 Juz Offline , installs :  1,000,000+\n",
      "Hafizi Quran 15 lines per page , installs :  1,000,000+\n",
      "Quran for Android , installs :  10,000,000+\n",
      "Satellite AR , installs :  1,000,000+\n",
      "Oxford A-Z of English Usage , installs :  1,000,000+\n",
      "Dictionary.com: Find Definitions for English Words , installs :  10,000,000+\n",
      "English Dictionary - Offline , installs :  10,000,000+\n",
      "Bible KJV , installs :  5,000,000+\n",
      "NOOK: Read eBooks & Magazines , installs :  10,000,000+\n",
      "Brilliant Quotes: Life, Love, Family & Motivation , installs :  1,000,000+\n",
      "Stats Royale for Clash Royale , installs :  1,000,000+\n",
      "Dictionary , installs :  10,000,000+\n",
      "wikiHow: how to do anything , installs :  1,000,000+\n",
      "EGW Writings , installs :  1,000,000+\n",
      "My Little Pony AR Guide , installs :  1,000,000+\n",
      "Spanish English Translator , installs :  10,000,000+\n",
      "Dictionary - Merriam-Webster , installs :  10,000,000+\n",
      "JW Library , installs :  10,000,000+\n",
      "Oxford Dictionary of English : Free , installs :  10,000,000+\n",
      "English Hindi Dictionary , installs :  10,000,000+\n",
      "English to Hindi Dictionary , installs :  5,000,000+\n"
     ]
    }
   ],
   "source": [
    "for app in android_final:\n",
    "    if app[1] == 'BOOKS_AND_REFERENCE' and (app[5] == '1,000,000+'\n",
    "                                            or app[5] == '5,000,000+'\n",
    "                                            or app[5] == '10,000,000+'\n",
    "                                            or app[5] == '50,000,000+'):\n",
    "        print(app[0],', installs : ', app[5])"
   ]
  },
  {
   "cell_type": "markdown",
   "metadata": {},
   "source": [
    "- Same as in the App Store : it seems that we can turn a famous book to an app, however it looks like the market is already full of librariesso we will have to add intresting features (Audio version, daily quotes ...)."
   ]
  },
  {
   "cell_type": "markdown",
   "metadata": {},
   "source": [
    "# Conclusion:"
   ]
  },
  {
   "cell_type": "markdown",
   "metadata": {},
   "source": [
    "- In this project, we analyzed data about the App Store and Google Play mobile apps with the goal of recommending an app profile that can be profitable for both markets.\n",
    "\n",
    "- We concluded that taking a popular book (perhaps a more recent book) and turning it into an app could be profitable for both the Google Play and the App Store markets. The markets are already full of libraries, so we need to add some special features besides the raw version of the book. This might include daily quotes from the book, an audio version of the book, quizzes on the book, a forum where people can discuss the book, etc."
   ]
  },
  {
   "cell_type": "code",
   "execution_count": null,
   "metadata": {},
   "outputs": [],
   "source": []
  }
 ],
 "metadata": {
  "kernelspec": {
   "display_name": "Python 3",
   "language": "python",
   "name": "python3"
  },
  "language_info": {
   "codemirror_mode": {
    "name": "ipython",
    "version": 3
   },
   "file_extension": ".py",
   "mimetype": "text/x-python",
   "name": "python",
   "nbconvert_exporter": "python",
   "pygments_lexer": "ipython3",
   "version": "3.6.5"
  }
 },
 "nbformat": 4,
 "nbformat_minor": 2
}
